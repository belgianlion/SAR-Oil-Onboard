{
 "cells": [
  {
   "cell_type": "code",
   "execution_count": null,
   "metadata": {},
   "outputs": [
    {
     "name": "stdout",
     "output_type": "stream",
     "text": [
      "Output for 0_0_0_img_ky8UpY0ljZcNZVw3_GBR_cls_1.jpg: 0\n",
      "Output for 0_0_0_img_qBIhHv0a36ynbvIW_GIB_cls_1.jpg: 0\n",
      "Output for 0_0_0_img_QU4PTDLBV3dBxN7b_PHI_cls_0.jpg: 0\n",
      "Output for 1_200_0_img_9c3d5585_TRI_cls_1.jpg: 0\n",
      "Output for 0_0_0_img_5kPtgTDfaBqbQJtE_ADR_cls_0.jpg: 0\n",
      "Output for 0_0_0_img_72gUvSnnkPTMGLF3_GBR_cls_0.jpg: 0\n",
      "Output for 1_200_0_img_dtsR0emPVPPNdxSS_SFr_cls_1.jpg: 0\n",
      "Output for 0_0_0_img_ca9QOv0U0q6eU9Ow_PHI_cls_0.jpg: 0\n"
     ]
    },
    {
     "name": "stderr",
     "output_type": "stream",
     "text": [
      "/var/folders/rs/5cr_08051n15100tj3ymk5g40000gn/T/ipykernel_46514/2706898335.py:11: FutureWarning: You are using `torch.load` with `weights_only=False` (the current default value), which uses the default pickle module implicitly. It is possible to construct malicious pickle data which will execute arbitrary code during unpickling (See https://github.com/pytorch/pytorch/blob/main/SECURITY.md#untrusted-models for more details). In a future release, the default value for `weights_only` will be flipped to `True`. This limits the functions that could be executed during unpickling. Arbitrary objects will no longer be allowed to be loaded via this mode unless they are explicitly allowlisted by the user via `torch.serialization.add_safe_globals`. We recommend you start setting `weights_only=True` for any use case where you don't have full control of the loaded file. Please open an issue on GitHub for any issues related to this experimental feature.\n",
      "  model.load_state_dict(torch.load(model_path))\n"
     ]
    }
   ],
   "source": [
    "import torch\n",
    "from torchvision import models, transforms\n",
    "from PIL import Image\n",
    "import os\n",
    "\n",
    "# Load the model\n",
    "model_path = \"/Users/mitchellsylvia/SAR-Oil-Onboard/src/models/ResNet/resnet18_sar1.pt\"\n",
    "\n",
    "model = models.resnet18(pretrained=False)\n",
    "model.fc = torch.nn.Linear(512, 2)  # Change the output layer to have 2 classes\n",
    "model.load_state_dict(torch.load(model_path))\n",
    "model.eval()\n",
    "\n",
    "# Define the image transformations\n",
    "transform = transforms.Compose([\n",
    "    transforms.Resize((224, 224)),\n",
    "    transforms.ToTensor(),\n",
    "    transforms.Normalize(mean=[0.485, 0.456, 0.406], std=[0.229, 0.224, 0.225]),\n",
    "])\n",
    "\n",
    "# Directory containing the images\n",
    "image_dir = \"/Users/mitchellsylvia/SAR-Oil-Onboard/Datasets/CSIRO_Sentinel-1_SAR_image_dataset/data/Samples\"\n",
    "\n",
    "# Function to load and preprocess the image\n",
    "def load_image(image_path):\n",
    "    image = Image.open(image_path).convert(\"RGB\")\n",
    "    image = transform(image)\n",
    "    image = image.unsqueeze(0)  # Add batch dimension\n",
    "    return image\n",
    "\n",
    "# Run the model on each image in the directory\n",
    "for image_name in os.listdir(image_dir):\n",
    "    image_path = os.path.join(image_dir, image_name)\n",
    "    image = load_image(image_path)\n",
    "    with torch.no_grad():\n",
    "        output = model(image)\n",
    "        output = torch.argmax(output, dim=1).item()\n",
    "    print(f\"Output for {image_name}: {output}\")"
   ]
  }
 ],
 "metadata": {
  "kernelspec": {
   "display_name": "Python 3",
   "language": "python",
   "name": "python3"
  },
  "language_info": {
   "codemirror_mode": {
    "name": "ipython",
    "version": 3
   },
   "file_extension": ".py",
   "mimetype": "text/x-python",
   "name": "python",
   "nbconvert_exporter": "python",
   "pygments_lexer": "ipython3",
   "version": "3.12.7"
  }
 },
 "nbformat": 4,
 "nbformat_minor": 2
}
