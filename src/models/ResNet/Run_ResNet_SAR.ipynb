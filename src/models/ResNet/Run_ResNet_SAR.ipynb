{
 "cells": [
  {
   "cell_type": "code",
   "execution_count": 24,
   "metadata": {},
   "outputs": [
    {
     "name": "stdout",
     "output_type": "stream",
     "text": [
      "Output for 0_0_0_img_0bNt4tmcxCvG6liW_SFr_cls_0.jpg: 0 with 100.00% confidence\n",
      "Output for 0_0_0_img_5kPtgTDfaBqbQJtE_ADR_cls_0.jpg: 0 with 100.00% confidence\n",
      "Output for 0_0_0_img_72gUvSnnkPTMGLF3_GBR_cls_0.jpg: 0 with 99.98% confidence\n",
      "Output for 0_0_0_img_ca9QOv0U0q6eU9Ow_PHI_cls_0.jpg: 0 with 100.00% confidence\n",
      "Output for 0_0_0_img_ky8UpY0ljZcNZVw3_GBR_cls_1.jpg: 1 with 99.93% confidence\n",
      "Output for 0_0_0_img_qBIhHv0a36ynbvIW_GIB_cls_1.jpg: 1 with 100.00% confidence\n",
      "Output for 0_0_0_img_QU4PTDLBV3dBxN7b_PHI_cls_0.jpg: 0 with 100.00% confidence\n",
      "Output for 1_200_0_img_9c3d5585_TRI_cls_1.jpg: 1 with 100.00% confidence\n",
      "Output for 1_200_0_img_dtsR0emPVPPNdxSS_SFr_cls_1.jpg: 1 with 100.00% confidence\n"
     ]
    }
   ],
   "source": [
    "import torch\n",
    "from torchvision import models, transforms\n",
    "from PIL import Image\n",
    "import os\n",
    "\n",
    "# Load the model\n",
    "model_path = r\"C:\\Users\\belgi\\OneDrive\\Documents\\GitHub\\SAR-Oil-Onboard\\src\\models\\ResNet\\resnet18_sar.pt\"\n",
    "device = torch.device(\"cuda\" if torch.cuda.is_available() else \"cpu\")\n",
    "\n",
    "model = models.resnet18(pretrained=False)\n",
    "model.fc = torch.nn.Linear(512, 2)  # Change the output layer to have 2 classes\n",
    "model.load_state_dict(torch.load(model_path, weights_only=False))\n",
    "model = model.to(device)\n",
    "model.eval()\n",
    "\n",
    "# Define the image transformations\n",
    "transform = transforms.Compose([\n",
    "    transforms.Resize((224, 224)),\n",
    "    transforms.ToTensor()\n",
    "])\n",
    "\n",
    "# Directory containing the images\n",
    "image_dir = r\"C:\\Users\\belgi\\OneDrive\\Documents\\GitHub\\SAR-Oil-Onboard\\Datasets\\Samples\"\n",
    "\n",
    "# Function to load and preprocess the image\n",
    "def load_image(image_path):\n",
    "    image = Image.open(image_path).convert(\"RGB\")\n",
    "    image = transform(image)\n",
    "    image = image.unsqueeze(0)  # Add batch dimension\n",
    "    return image\n",
    "\n",
    "# Run the model on each image in the directory\n",
    "for image_name in os.listdir(image_dir):\n",
    "    image_path = os.path.join(image_dir, image_name)\n",
    "    image = load_image(image_path).to(device)\n",
    "    with torch.no_grad():\n",
    "        output = model(image)\n",
    "        probabilities = torch.nn.functional.softmax(output, dim=1)\n",
    "        predicted = torch.argmax(probabilities, dim=1).item()\n",
    "        percentage = probabilities[0][predicted].item() * 100\n",
    "    print(f\"Output for {image_name}: {predicted} with {percentage:.2f}% confidence\")"
   ]
  },
  {
   "cell_type": "code",
   "execution_count": null,
   "metadata": {},
   "outputs": [],
   "source": []
  }
 ],
 "metadata": {
  "kernelspec": {
   "display_name": "base",
   "language": "python",
   "name": "python3"
  },
  "language_info": {
   "codemirror_mode": {
    "name": "ipython",
    "version": 3
   },
   "file_extension": ".py",
   "mimetype": "text/x-python",
   "name": "python",
   "nbconvert_exporter": "python",
   "pygments_lexer": "ipython3",
   "version": "3.12.7"
  }
 },
 "nbformat": 4,
 "nbformat_minor": 2
}
